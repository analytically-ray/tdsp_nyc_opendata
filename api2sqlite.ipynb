{
 "cells": [
  {
   "cell_type": "code",
   "execution_count": 1,
   "id": "8257aecf-d565-4447-83d4-2aa5a4b6a1d9",
   "metadata": {},
   "outputs": [],
   "source": [
    "import sqlite3\n",
    "import pandas as pd\n",
    "import time\n",
    "from urllib.parse import urlencode"
   ]
  },
  {
   "cell_type": "code",
   "execution_count": 2,
   "id": "576eec88-5b5a-4a88-a8a6-63a3b1ba52a0",
   "metadata": {},
   "outputs": [],
   "source": [
    "# Constants\n",
    "BASE_URL = \"https://data.cityofnewyork.us/resource/h9gi-nx95.csv\"\n",
    "DB_PATH = \"nyc_crashes.db\"\n",
    "TABLE_NAME = \"crashes\"\n",
    "BATCH_SIZE = 50000"
   ]
  },
  {
   "cell_type": "code",
   "execution_count": 51,
   "id": "841a0fca-9db3-4b86-82e0-4173bb80ad88",
   "metadata": {},
   "outputs": [],
   "source": [
    "conn = sqlite3.connect(DB_PATH)\n",
    "cursor = conn.cursor()\n",
    "\n",
    "total_fetched = 0\n",
    "batch_num = 0"
   ]
  },
  {
   "cell_type": "code",
   "execution_count": 52,
   "id": "48a208e7-25a8-472a-a0c3-8cdfd78725c2",
   "metadata": {},
   "outputs": [
    {
     "name": "stdout",
     "output_type": "stream",
     "text": [
      "Max crash_date in DB: 2023-03-27\n",
      "\n",
      "Fetching batch 1, records 1 to 50000 ...\n",
      "Batch max crash_date: 2025-05-30\n",
      "Inserted first 50000 records.\n",
      "\n",
      "Fetching batch 2, records 50001 to 100000 ...\n",
      "Batch max crash_date: 2024-10-25\n",
      "Inserted 50000 records.\n",
      "\n",
      "Fetching batch 3, records 100001 to 150000 ...\n",
      "Batch max crash_date: 2024-04-10\n",
      "Inserted 50000 records.\n",
      "\n",
      "Fetching batch 4, records 150001 to 200000 ...\n",
      "Batch max crash_date: 2023-09-28\n",
      "Inserted 50000 records.\n",
      "\n",
      "Fetching batch 5, records 200001 to 250000 ...\n",
      "Batch max crash_date: 2023-03-27\n",
      "Reached data already in database. Stopping fetch.\n"
     ]
    }
   ],
   "source": [
    "# Get max crash_date already in DB (or None if empty)\n",
    "cursor.execute(f\"SELECT MAX(crash_date) FROM {TABLE_NAME}\")\n",
    "max_date_in_db = cursor.fetchone()[0]\n",
    "if max_date_in_db:\n",
    "    max_date_in_db = pd.to_datetime(max_date_in_db).date()\n",
    "print(f\"Max crash_date in DB: {max_date_in_db}\")\n",
    "\n",
    "while True:\n",
    "    offset = batch_num * BATCH_SIZE\n",
    "    print(f\"\\nFetching batch {batch_num + 1}, records {offset + 1} to {offset + BATCH_SIZE} ...\")\n",
    "\n",
    "    params = {\n",
    "        \"$order\": \"crash_date DESC\",\n",
    "        \"$limit\": BATCH_SIZE,\n",
    "        \"$offset\": offset\n",
    "    }\n",
    "    query_string = urlencode(params)\n",
    "    url = f\"{BASE_URL}?{query_string}\"\n",
    "\n",
    "    try:\n",
    "        df = pd.read_csv(\n",
    "            url,\n",
    "            parse_dates=[\"crash_date\"],\n",
    "            dtype={\"crash_time\": str, \"zip_code\": str}\n",
    "        )\n",
    "        if df.empty:\n",
    "            print(\"No more data to fetch, exiting.\")\n",
    "            break\n",
    "            \n",
    "        # Normalize column names: lowercase and replace spaces with underscores\n",
    "        df.columns = [col.lower().replace(\" \", \"_\") for col in df.columns]\n",
    "\n",
    "        # Check batch max date vs DB max date\n",
    "        batch_max_date = df[\"crash_date\"].max().date()\n",
    "        print(f\"Batch max crash_date: {batch_max_date}\")\n",
    "\n",
    "        if max_date_in_db and batch_max_date <= max_date_in_db:\n",
    "            print(\"Reached data already in database. Stopping fetch.\")\n",
    "            break\n",
    "            \n",
    "        if batch_num == 0:\n",
    "            # Create table if not exists based on this batch's schema\n",
    "            columns_with_types = []\n",
    "            for col, dtype in df.dtypes.items():\n",
    "                if pd.api.types.is_integer_dtype(dtype):\n",
    "                    col_type = \"INTEGER\"\n",
    "                elif pd.api.types.is_float_dtype(dtype):\n",
    "                    col_type = \"REAL\"\n",
    "                elif pd.api.types.is_datetime64_any_dtype(dtype):\n",
    "                    col_type = \"TEXT\"\n",
    "                else:\n",
    "                    col_type = \"TEXT\"\n",
    "                columns_with_types.append(f\"{col} {col_type}\")\n",
    "\n",
    "            create_table_sql = f\"CREATE TABLE IF NOT EXISTS {TABLE_NAME} ({', '.join(columns_with_types)});\"\n",
    "            cursor.execute(create_table_sql)\n",
    "            conn.commit()\n",
    "\n",
    "            df.to_sql(TABLE_NAME, conn, if_exists=\"append\", index=False)\n",
    "            print(f\"Inserted first {len(df)} records.\")\n",
    "        else:\n",
    "            df.to_sql(TABLE_NAME, conn, if_exists=\"append\", index=False)\n",
    "            print(f\"Inserted {len(df)} records.\")\n",
    "\n",
    "        total_fetched += len(df)\n",
    "        batch_num += 1\n",
    "\n",
    "        time.sleep(1)  # Be polite to the API\n",
    "\n",
    "    except pd.errors.EmptyDataError:\n",
    "        print(\"No more data to fetch, exiting.\")\n",
    "        break\n",
    "    except Exception as e:\n",
    "        print(f\"Error fetching batch at offset {offset}: {e}\")\n",
    "        break"
   ]
  },
  {
   "cell_type": "code",
   "execution_count": 53,
   "id": "c82d61f9-e0e0-4ee0-b684-e645c85cb50e",
   "metadata": {},
   "outputs": [
    {
     "name": "stdout",
     "output_type": "stream",
     "text": [
      "\n",
      "Finished. Total records inserted: 200000\n"
     ]
    }
   ],
   "source": [
    "print(f\"\\nFinished. Total records inserted: {total_fetched}\")\n",
    "conn.close()"
   ]
  },
  {
   "cell_type": "code",
   "execution_count": null,
   "id": "6ffdd045-4980-4b19-bfdd-678b1ba7b4fb",
   "metadata": {},
   "outputs": [],
   "source": []
  }
 ],
 "metadata": {
  "kernelspec": {
   "display_name": "Python 3 (ipykernel)",
   "language": "python",
   "name": "python3"
  },
  "language_info": {
   "codemirror_mode": {
    "name": "ipython",
    "version": 3
   },
   "file_extension": ".py",
   "mimetype": "text/x-python",
   "name": "python",
   "nbconvert_exporter": "python",
   "pygments_lexer": "ipython3",
   "version": "3.13.3"
  }
 },
 "nbformat": 4,
 "nbformat_minor": 5
}
